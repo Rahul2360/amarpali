{
 "cells": [
  {
   "cell_type": "code",
   "execution_count": 32,
   "id": "4db2eadd",
   "metadata": {},
   "outputs": [],
   "source": [
    "import openpyxl as xl\n",
    "from openpyxl import Workbook\n",
    "import datetime\n",
    "from dateutil.parser import parse\n",
    "\n",
    "\n",
    "source =\"/home/devendra/Downloads/sampledatainsurance.xlsx\"\n",
    "workbook_s = xl.load_workbook(source)\n",
    "worksheet_s = workbook_s.worksheets[0]\n",
    "\n",
    "workbook_d = Workbook()\n",
    "worksheet_d =  workbook_d.active\n",
    "worksheet_d.title = \"Sheet1\"\n",
    "workbook_d.save('sampledatainsurance.xlsx')\n",
    "\n",
    "for i in range(1,10):\n",
    "        c = worksheet_s.cell(row = 1, column = i)\n",
    "        worksheet_d.cell(row = 1, column = i).value = c.value\n",
    "worksheet_d.insert_cols(10)\n",
    "worksheet_d['J1']=\"Reason\"\n",
    "reason_list=['Null value in column ','Wrong value in the column InsuredValue','Invalid date']\n",
    "\n",
    "for i in range(1,10):\n",
    "    for j in range(2,502):\n",
    "        c = worksheet_s.cell(row = j, column = i)\n",
    "        if c.value==None:\n",
    "            my_list2=[]\n",
    "            for k in range(1,10):\n",
    "                \n",
    "                c = worksheet_s.cell(row = j, column = k)\n",
    "                my_list2.append(c.value)\n",
    "            my_list2.append(reason_list[0]+str(i))\n",
    "            worksheet_d.append(my_list2)\n",
    "\n",
    "        if i==6:\n",
    "            c = worksheet_s.cell(row = j, column = i)\n",
    "            d_type=type(c.value)\n",
    "            if d_type ==str:\n",
    "                my_list3=[]\n",
    "                for l in range(1,10):\n",
    "                \n",
    "                    c = worksheet_s.cell(row = j, column = l)\n",
    "                    my_list3.append(c.value)\n",
    "                my_list3.append(reason_list[1])\n",
    "                worksheet_d.append(my_list3)\n",
    "        if i==2:\n",
    "            c = worksheet_s.cell(row = j, column = i)\n",
    "            d_type=type(c.value)\n",
    "            if d_type == str:\n",
    "                my_list1=[]\n",
    "                for m in range(1,10):\n",
    "                    c = worksheet_s.cell(row = j, column = m)\n",
    "                    my_list1.append(c.value)\n",
    "                my_list1.append(reason_list[2])\n",
    "                worksheet_d.append(my_list1)\n",
    "\n",
    "\n",
    "workbook_d.save('sampledatainsurance.xlsx')\n",
    "workbook_d.close()\n",
    "workbook_s.close()"
   ]
  },
  {
   "cell_type": "code",
   "execution_count": 16,
   "id": "44f957a0",
   "metadata": {},
   "outputs": [],
   "source": [
    "    "
   ]
  },
  {
   "cell_type": "code",
   "execution_count": null,
   "id": "74234570",
   "metadata": {},
   "outputs": [],
   "source": []
  },
  {
   "cell_type": "code",
   "execution_count": null,
   "id": "9841c9fa",
   "metadata": {},
   "outputs": [],
   "source": []
  }
 ],
 "metadata": {
  "kernelspec": {
   "display_name": "Python 3",
   "language": "python",
   "name": "python3"
  },
  "language_info": {
   "codemirror_mode": {
    "name": "ipython",
    "version": 3
   },
   "file_extension": ".py",
   "mimetype": "text/x-python",
   "name": "python",
   "nbconvert_exporter": "python",
   "pygments_lexer": "ipython3",
   "version": "3.6.9"
  }
 },
 "nbformat": 4,
 "nbformat_minor": 5
}
