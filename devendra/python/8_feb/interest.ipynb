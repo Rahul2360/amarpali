{
 "cells": [
  {
   "cell_type": "code",
   "execution_count": 4,
   "id": "2074a579",
   "metadata": {},
   "outputs": [
    {
     "name": "stdout",
     "output_type": "stream",
     "text": [
      "Enter principle amount : 6000\n",
      "Enter time in years : 5\n",
      "Enter rate : 4\n",
      "Simple interest is :  1200.0\n"
     ]
    }
   ],
   "source": [
    "principle_amount=int(input(\"Enter principle amount : \"))\n",
    "time=int(input(\"Enter time in years : \"))\n",
    "rate=int(input(\"Enter rate : \"))\n",
    "simple_interest=(principle_amount*time*rate)/100\n",
    "print(\"Simple interest is : \",simple_interest)\n",
    "   "
   ]
  },
  {
   "cell_type": "code",
   "execution_count": 5,
   "id": "94846154",
   "metadata": {},
   "outputs": [
    {
     "name": "stdout",
     "output_type": "stream",
     "text": [
      "Enter principle amount : 5000\n",
      "Enter time in years : 4\n",
      "Enter rate : 3\n",
      "Compound interest is :  627.5440500000004\n"
     ]
    }
   ],
   "source": [
    "principle_amount=int(input(\"Enter principle amount : \"))\n",
    "time=int(input(\"Enter time in years : \"))\n",
    "rate=int(input(\"Enter rate : \"))\n",
    "amount=principle_amount*(pow(1+(rate/100),time))\n",
    "compound_interest=amount-principle_amount\n",
    "print(\"Compound interest is : \",compound_interest)\n",
    "   "
   ]
  },
  {
   "cell_type": "code",
   "execution_count": null,
   "id": "402e876f",
   "metadata": {},
   "outputs": [],
   "source": []
  }
 ],
 "metadata": {
  "kernelspec": {
   "display_name": "Python 3",
   "language": "python",
   "name": "python3"
  },
  "language_info": {
   "codemirror_mode": {
    "name": "ipython",
    "version": 3
   },
   "file_extension": ".py",
   "mimetype": "text/x-python",
   "name": "python",
   "nbconvert_exporter": "python",
   "pygments_lexer": "ipython3",
   "version": "3.6.9"
  }
 },
 "nbformat": 4,
 "nbformat_minor": 5
}
