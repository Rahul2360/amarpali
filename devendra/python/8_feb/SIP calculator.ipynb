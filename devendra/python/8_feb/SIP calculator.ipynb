{
 "cells": [
  {
   "cell_type": "code",
   "execution_count": 27,
   "id": "52aea56b",
   "metadata": {},
   "outputs": [
    {
     "name": "stdout",
     "output_type": "stream",
     "text": [
      "I wish to invest per month : 500\n",
      "Enter time in years : 20\n",
      "Enter rate of return : 12\n",
      "Invested Amount :  120000\n",
      "Resultant Amount :  499574\n"
     ]
    }
   ],
   "source": [
    "monthly_amount=int(input(\"I wish to invest per month : \"))\n",
    "time=int(input(\"Enter time in years : \"))\n",
    "rate=int(input(\"Enter rate of return : \"))\n",
    "sip_calculator(monthly_amount,time,rate)"
   ]
  },
  {
   "cell_type": "code",
   "execution_count": null,
   "id": "c8e085c6",
   "metadata": {},
   "outputs": [],
   "source": [
    "def sip_calculator(monthly_sip_amount,time,rate):\n",
    "    monthly_rate=rate/12/100\n",
    "    months=time*12\n",
    "    gained = (monthly_sip_amount*(((1+monthly_rate)**months)-1)*(1+monthly_rate))/monthly_rate\n",
    "    invested_amount=monthly_sip_amount*months\n",
    "    rounded_gained = round(gained)\n",
    "    print(\"Invested Amount : \",invested_amount)\n",
    "    print(\"Resultant Amount : \",rounded_gained)"
   ]
  }
 ],
 "metadata": {
  "kernelspec": {
   "display_name": "Python 3",
   "language": "python",
   "name": "python3"
  },
  "language_info": {
   "codemirror_mode": {
    "name": "ipython",
    "version": 3
   },
   "file_extension": ".py",
   "mimetype": "text/x-python",
   "name": "python",
   "nbconvert_exporter": "python",
   "pygments_lexer": "ipython3",
   "version": "3.6.9"
  }
 },
 "nbformat": 4,
 "nbformat_minor": 5
}
