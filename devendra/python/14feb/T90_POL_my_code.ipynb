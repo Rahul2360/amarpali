{
 "cells": [
  {
   "cell_type": "code",
   "execution_count": 2,
   "id": "3655d5d8",
   "metadata": {},
   "outputs": [],
   "source": [
    "import xlrd\n",
    "import openpyxl as xl\n",
    "from openpyxl import Workbook\n",
    "\n",
    "workbook_s=xlrd.open_workbook('/home/devendra/Downloads/T90_POL.xls')\n",
    "total_sheets=format(workbook_s.nsheets) \n",
    "total_sheets=int(total_sheets)\n",
    "sheet_names = workbook_s.sheet_names()\n",
    "\n",
    "workbook_d = Workbook()\n",
    "worksheet_d =  workbook_d.active\n",
    "worksheet_d.title = \"output sheet\"\n",
    "worksheet_d['A1']=\"Sheet Name\"\n",
    "worksheet_d['B1']=\"Position\"\n",
    "worksheet_d['C1']=\"ColName\"\n",
    "\n",
    "\n",
    "for i in range(0,total_sheets):\n",
    "    my_list=[]\n",
    "    worksheet_s=workbook_s.sheet_by_index(i)\n",
    "    col_name=worksheet_s.cell_value(0,0)\n",
    "    my_list.append(sheet_names[i])\n",
    "    my_list.append(i+1)\n",
    "    my_list.append(col_name)\n",
    "    worksheet_d.append(my_list)\n",
    "    \n",
    "workbook_d.save(filename = '/home/devendra/Downloads/T90_POL_output.xlsx')\n",
    "\n"
   ]
  },
  {
   "cell_type": "code",
   "execution_count": null,
   "id": "a48bfe98",
   "metadata": {},
   "outputs": [],
   "source": []
  }
 ],
 "metadata": {
  "kernelspec": {
   "display_name": "Python 3",
   "language": "python",
   "name": "python3"
  },
  "language_info": {
   "codemirror_mode": {
    "name": "ipython",
    "version": 3
   },
   "file_extension": ".py",
   "mimetype": "text/x-python",
   "name": "python",
   "nbconvert_exporter": "python",
   "pygments_lexer": "ipython3",
   "version": "3.6.9"
  }
 },
 "nbformat": 4,
 "nbformat_minor": 5
}
