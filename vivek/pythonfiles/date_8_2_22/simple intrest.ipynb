{
 "cells": [
  {
   "cell_type": "code",
   "execution_count": 1,
   "id": "fbd92e0a",
   "metadata": {},
   "outputs": [
    {
     "name": "stdout",
     "output_type": "stream",
     "text": [
      "enter the value of principle 1000\n",
      "enter the time 1\n",
      "enter the rate5\n",
      "your simple intrest is::   50.0\n"
     ]
    }
   ],
   "source": [
    "principle = input(\"enter the value of principle \")\n",
    "principle=float(principle)\n",
    "time = input(\"enter the time \")\n",
    "time=float(time)\n",
    "rate =input(\"enter the rate\")\n",
    "rate=float(rate)\n",
    "def simple_intrest(p,t,r):\n",
    "    si=p*t*r\n",
    "    si=si/100\n",
    "    return si\n",
    "print(\"your simple intrest is::  \",simple_intrest(principle,time,rate))"
   ]
  },
  {
   "cell_type": "code",
   "execution_count": null,
   "id": "58255c56",
   "metadata": {},
   "outputs": [],
   "source": []
  }
 ],
 "metadata": {
  "kernelspec": {
   "display_name": "Python 3",
   "language": "python",
   "name": "python3"
  },
  "language_info": {
   "codemirror_mode": {
    "name": "ipython",
    "version": 3
   },
   "file_extension": ".py",
   "mimetype": "text/x-python",
   "name": "python",
   "nbconvert_exporter": "python",
   "pygments_lexer": "ipython3",
   "version": "3.6.9"
  }
 },
 "nbformat": 4,
 "nbformat_minor": 5
}
