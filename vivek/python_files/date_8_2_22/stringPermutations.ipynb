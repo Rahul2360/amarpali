{
 "cells": [
  {
   "cell_type": "code",
   "execution_count": 4,
   "id": "3057e5f5",
   "metadata": {},
   "outputs": [
    {
     "name": "stdout",
     "output_type": "stream",
     "text": [
      "enter a string:: abc\n",
      "l::  0\n",
      "i::  0\n",
      "l::  1\n",
      "i::  1\n",
      "l::  2\n",
      "a b c\n",
      "i::  2\n",
      "l::  2\n",
      "a c b\n",
      "i::  1\n",
      "l::  1\n",
      "i::  1\n",
      "l::  2\n",
      "b a c\n",
      "i::  2\n",
      "l::  2\n",
      "b c a\n",
      "i::  2\n",
      "l::  1\n",
      "i::  1\n",
      "l::  2\n",
      "c b a\n",
      "i::  2\n",
      "l::  2\n",
      "c a b\n"
     ]
    }
   ],
   "source": [
    "def toString(List):\n",
    "    return ' '.join(List)\n",
    "\n",
    "def permute(a, l, r):\n",
    "#     print(\"l:: \",l)\n",
    "    if l==r:\n",
    "        print (toString(a))\n",
    "    else:\n",
    "        for i in range(l,r+1):\n",
    "#             print(\"i:: \",i)\n",
    "            a[l], a[i] = a[i], a[l]\n",
    "            permute(a, l+1, r)\n",
    "            a[l], a[i] = a[i], a[l] \n",
    "\n",
    "string = input(\"enter a string:: \")\n",
    "n = len(string)\n",
    "a = list(string)\n",
    "# print(a)\n",
    "permute(a, 0, n-1)"
   ]
  },
  {
   "cell_type": "code",
   "execution_count": null,
   "id": "4a5243fc",
   "metadata": {},
   "outputs": [],
   "source": []
  }
 ],
 "metadata": {
  "kernelspec": {
   "display_name": "Python 3",
   "language": "python",
   "name": "python3"
  },
  "language_info": {
   "codemirror_mode": {
    "name": "ipython",
    "version": 3
   },
   "file_extension": ".py",
   "mimetype": "text/x-python",
   "name": "python",
   "nbconvert_exporter": "python",
   "pygments_lexer": "ipython3",
   "version": "3.6.9"
  }
 },
 "nbformat": 4,
 "nbformat_minor": 5
}
