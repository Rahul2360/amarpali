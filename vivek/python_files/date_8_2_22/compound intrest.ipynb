{
 "cells": [
  {
   "cell_type": "code",
   "execution_count": 2,
   "id": "665d8135",
   "metadata": {},
   "outputs": [
    {
     "name": "stdout",
     "output_type": "stream",
     "text": [
      "enter the value of principle 1000\n",
      "enter the time 1\n",
      "enter the rate5\n",
      "if you want half yearly ci then enter 2 or for quaterly enter 4:: 2\n",
      "your Compound interest is::   50.625\n"
     ]
    }
   ],
   "source": [
    "principle = input(\"enter the value of principle \")\n",
    "principle=int(principle)\n",
    "time = input(\"enter the time \")\n",
    "time=float(time)\n",
    "rate =input(\"enter the rate\")\n",
    "rate=float(rate)\n",
    "month=input(\"if you want half yearly ci then enter 2 or for quaterly enter 4:: \")\n",
    "month=float(month)\n",
    "def simple_intrest(p,t,r,m):\n",
    "    Amount = p * (pow((1 + (r/m )/ 100), m*t))\n",
    "    CI = Amount - p\n",
    "    return CI\n",
    "print(\"your Compound interest is::  \",simple_intrest(principle,time,rate,month))"
   ]
  },
  {
   "cell_type": "code",
   "execution_count": null,
   "id": "da466a6a",
   "metadata": {},
   "outputs": [],
   "source": []
  }
 ],
 "metadata": {
  "kernelspec": {
   "display_name": "Python 3",
   "language": "python",
   "name": "python3"
  },
  "language_info": {
   "codemirror_mode": {
    "name": "ipython",
    "version": 3
   },
   "file_extension": ".py",
   "mimetype": "text/x-python",
   "name": "python",
   "nbconvert_exporter": "python",
   "pygments_lexer": "ipython3",
   "version": "3.6.9"
  }
 },
 "nbformat": 4,
 "nbformat_minor": 5
}
