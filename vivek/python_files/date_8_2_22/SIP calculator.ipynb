{
 "cells": [
  {
   "cell_type": "code",
   "execution_count": 4,
   "id": "a2d1188f",
   "metadata": {},
   "outputs": [
    {
     "name": "stdout",
     "output_type": "stream",
     "text": [
      "Enter the Monthly SIP amount 1000\n",
      "Enter rate of yearly 10\n",
      "Enter number of year 3\n",
      "Your expected Future Value is::   42130.002932678115\n"
     ]
    }
   ],
   "source": [
    "amount=float(input(\"Enter the Monthly SIP amount \"))\n",
    "yearlyRate=float(input(\"Enter rate of yearly \"))\n",
    "noOfYear=int(input(\"Enter number of year \"))\n",
    "def sip_calculater(amount,yearlyRate,noOfYear):\n",
    "    monthlyRate=yearlyRate/12/100\n",
    "    totalMonths=noOfYear*12\n",
    "    futureValue=amount*((((1+monthlyRate)**(totalMonths))-1)*(1+monthlyRate))/monthlyRate\n",
    "    return futureValue\n",
    "\n",
    "print(\"Your expected Future Value is::  \",sip_calculater(amount,yearlyRate,noOfYear))"
   ]
  },
  {
   "cell_type": "code",
   "execution_count": null,
   "id": "ee402ca4",
   "metadata": {},
   "outputs": [],
   "source": []
  }
 ],
 "metadata": {
  "kernelspec": {
   "display_name": "Python 3",
   "language": "python",
   "name": "python3"
  },
  "language_info": {
   "codemirror_mode": {
    "name": "ipython",
    "version": 3
   },
   "file_extension": ".py",
   "mimetype": "text/x-python",
   "name": "python",
   "nbconvert_exporter": "python",
   "pygments_lexer": "ipython3",
   "version": "3.6.9"
  }
 },
 "nbformat": 4,
 "nbformat_minor": 5
}
