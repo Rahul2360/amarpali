{
 "cells": [
  {
   "cell_type": "code",
   "execution_count": 4,
   "id": "16db7061",
   "metadata": {},
   "outputs": [],
   "source": [
    "import xlrd\n",
    "from openpyxl import Workbook\n",
    "workbook=xlrd.open_workbook(\"T90_POL.xls\")\n",
    "res = len(workbook.sheet_names())\n",
    "#print(res)\n",
    " \n",
    "for i in range (0,res):\n",
    "  \n",
    "    sheet_name=\"Sheet\"+str(i) \n",
    "    workbook_d = Workbook()\n",
    "    select_sheet=workbook.sheet_by_index(i)\n",
    "    worksheet_d =  workbook_d.active\n",
    "    head_list=[]\n",
    " \n",
    " \n",
    "    max_col=select_sheet.ncols\n",
    "    for j in range(0,max_col):\n",
    "        cell_value = select_sheet.cell_value(0,j)  \n",
    "        head_list.append(cell_value) \n",
    "    #print(head_list)  \n",
    "    worksheet_d.append(head_list)\n",
    "    workbook_d.save(\"/home/tikam/notebook/\"+sheet_name+\".xlsx\")\n",
    "  \n",
    "   \n",
    "\n"
   ]
  },
  {
   "cell_type": "code",
   "execution_count": null,
   "id": "cc789431",
   "metadata": {},
   "outputs": [],
   "source": []
  }
 ],
 "metadata": {
  "kernelspec": {
   "display_name": "Python 3",
   "language": "python",
   "name": "python3"
  },
  "language_info": {
   "codemirror_mode": {
    "name": "ipython",
    "version": 3
   },
   "file_extension": ".py",
   "mimetype": "text/x-python",
   "name": "python",
   "nbconvert_exporter": "python",
   "pygments_lexer": "ipython3",
   "version": "3.6.9"
  }
 },
 "nbformat": 4,
 "nbformat_minor": 5
}
